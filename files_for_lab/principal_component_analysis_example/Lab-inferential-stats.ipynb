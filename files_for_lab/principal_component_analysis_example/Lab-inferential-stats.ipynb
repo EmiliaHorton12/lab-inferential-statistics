{
 "cells": [
  {
   "cell_type": "code",
   "execution_count": 74,
   "id": "296aac25-f7fe-458f-8854-733536587300",
   "metadata": {},
   "outputs": [],
   "source": [
    "import scipy.stats as sp\n",
    "import numpy as np"
   ]
  },
  {
   "cell_type": "code",
   "execution_count": 76,
   "id": "9e44c428-0be9-4e9c-ade7-991bc7adeaac",
   "metadata": {},
   "outputs": [],
   "source": [
    "# H0= no difference between asumed mean and sample mean. \n",
    "# H1= there is a statistical difference betwee them."
   ]
  },
  {
   "cell_type": "code",
   "execution_count": 78,
   "id": "af11a860-6eec-4b8b-bcdd-3401c211814a",
   "metadata": {},
   "outputs": [],
   "source": [
    "asumed_mean = 120\n",
    "n = 100 #sample\n",
    "sample_mean = 130.1\n",
    "std = 21.21\n",
    "# Is the group significantly different (with respect to systolic blood pressure!) from the regular population?\n"
   ]
  },
  {
   "cell_type": "code",
   "execution_count": 88,
   "id": "2dc0f705-e621-443a-9a33-431a10e8cdac",
   "metadata": {},
   "outputs": [],
   "source": [
    "sample_mean\n",
    "std\n",
    "mu = asumed_mean"
   ]
  },
  {
   "cell_type": "code",
   "execution_count": 90,
   "id": "c1bfaba3-5d3c-4422-b489-128a242ce01b",
   "metadata": {},
   "outputs": [
    {
     "name": "stdout",
     "output_type": "stream",
     "text": [
      "Test Statistic (t): 4.76\n"
     ]
    }
   ],
   "source": [
    "t_stat = (sample_mean - mu) / (std / np.sqrt(n))\n",
    "print(f\"Test Statistic (t): {t_stat:.2f}\")"
   ]
  },
  {
   "cell_type": "code",
   "execution_count": 94,
   "id": "ec2b0ef5-4f29-408f-bf8d-c75d3dc8704d",
   "metadata": {},
   "outputs": [
    {
     "name": "stdout",
     "output_type": "stream",
     "text": [
      "P-Value: 0.0000\n"
     ]
    }
   ],
   "source": [
    "p_value = sp.t.sf(np.abs(t_stat), df=n-1) * 2\n",
    "print(f\"P-Value: {p_value:.4f}\")"
   ]
  },
  {
   "cell_type": "code",
   "execution_count": null,
   "id": "0e3a0549-fca5-42db-a940-9aa5daeaedf4",
   "metadata": {},
   "outputs": [],
   "source": [
    "# pvalue < 0.5 = reject, there is a difference, stat value= which way that is different, if +positive sameple mean is higher, if - is lower."
   ]
  },
  {
   "cell_type": "code",
   "execution_count": null,
   "id": "f234f6c9-7dd1-4521-a2e9-aee480e116da",
   "metadata": {},
   "outputs": [],
   "source": []
  }
 ],
 "metadata": {
  "kernelspec": {
   "display_name": "Python [conda env:base] *",
   "language": "python",
   "name": "conda-base-py"
  },
  "language_info": {
   "codemirror_mode": {
    "name": "ipython",
    "version": 3
   },
   "file_extension": ".py",
   "mimetype": "text/x-python",
   "name": "python",
   "nbconvert_exporter": "python",
   "pygments_lexer": "ipython3",
   "version": "3.12.7"
  }
 },
 "nbformat": 4,
 "nbformat_minor": 5
}
